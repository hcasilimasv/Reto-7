{
 "cells": [
  {
   "cell_type": "code",
   "execution_count": null,
   "metadata": {},
   "outputs": [],
   "source": [
    "n = 0\n",
    "cuadrado = n ** 2\n",
    "while n <= 100:\n",
    "  print(\"Numero \" + str(n) + \" , Cuadrado = \" + str(cuadrado) +  \" \") \n",
    "  n = n + 1\n",
    "  cuadrado = n ** 2 "
   ]
  },
  {
   "cell_type": "code",
   "execution_count": null,
   "metadata": {},
   "outputs": [],
   "source": [
    "n = 1\n",
    "print(\"Números impares:\")\n",
    "while n <= 999:\n",
    "  print(n)\n",
    "  n += 2\n",
    "n2 = 2\n",
    "print(\"Números pares:\")\n",
    "while True:\n",
    "  print(n2)\n",
    "  n2 += 2\n",
    "  if n2 > 1000:\n",
    "    break"
   ]
  },
  {
   "cell_type": "code",
   "execution_count": null,
   "metadata": {},
   "outputs": [],
   "source": [
    "def pares_des(n):\n",
    "  if n < 2:\n",
    "    print(\"El numero debe ser mayor o igual a 2\")\n",
    "    return\n",
    "  print(\"Numeros pares descendentes hasta 2\")\n",
    "  while n >= 2:\n",
    "    if n % 2 == 0:\n",
    "      print(n)\n",
    "      n -= 2\n",
    "n = int(input(\"Escriba un numero natural mayor o igual a 2\"))\n",
    "pares_des(n)"
   ]
  },
  {
   "cell_type": "code",
   "execution_count": null,
   "metadata": {},
   "outputs": [],
   "source": [
    "pais_a = 25e6\n",
    "pais_b = 18.9e6\n",
    "tasa_c_a = 0.02\n",
    "tasa_c_b = 0.03\n",
    "ano = 2022\n",
    "while pais_b <= pais_a:\n",
    "    pais_a *= (1 + tasa_c_a)\n",
    "    pais_b *= (1 + tasa_c_b)\n",
    "    ano += 1\n",
    "print(\"La poblacion del pais B sobrepasara a la del pais A en el ano:\", ano)\n",
    "print(\"Población del pais A: \" + str(pais_a) + \" habitantes\")\n",
    "print(\"Población del pais B: \" + str(pais_b) + \" habitantes\")"
   ]
  },
  {
   "cell_type": "code",
   "execution_count": null,
   "metadata": {},
   "outputs": [],
   "source": [
    "import random\n",
    "n_secreto = random.randint(1, 100)\n",
    "veces = 0\n",
    "while True:\n",
    "  veces += 1\n",
    "  adivina = int(input(\"Introduce un número del 1 al 100: \"))\n",
    "  if adivina == n_secreto:\n",
    "    print(\"¡Felicidades! adivinaste el numero en \" + str(veces) + \" intentos\")\n",
    "    break\n",
    "  elif adivina < n_secreto:\n",
    "    print(\"El numero secreto es mayor del que tu piensas\")\n",
    "  else:\n",
    "    print(\"El numero secreto es menor del que tu piensas\")"
   ]
  },
  {
   "cell_type": "code",
   "execution_count": null,
   "metadata": {},
   "outputs": [],
   "source": [
    "n = int(input(\"Escriba un numero entre 2 y 50\"))\n",
    "if 2 <= n <= 50:\n",
    "    print(\"Los divisores de \" + str(n) + \" son:\")\n",
    "    div = 1\n",
    "    while div <= n:\n",
    "        if n % div == 0:\n",
    "            print(div)\n",
    "        div += 1\n",
    "else:\n",
    "    print(\"El numero escrito no esta dentro del rango\")"
   ]
  },
  {
   "cell_type": "code",
   "execution_count": null,
   "metadata": {},
   "outputs": [],
   "source": [
    "def primos(n):\n",
    "    if n <= 1:\n",
    "        return False\n",
    "    elif n <= 3:\n",
    "        return True\n",
    "    elif n % 2 == 0 or n % 3 == 0:\n",
    "        return False\n",
    "    else:\n",
    "        i = 5\n",
    "        while i * i <= n:\n",
    "            if n % i == 0 or n % (i + 2) == 0:\n",
    "                return False\n",
    "            i += 6\n",
    "        return True\n",
    "def most_primos():\n",
    "    n = 1\n",
    "    print(\"Numeros primos del 1 al 100\")\n",
    "    while n <= 100:\n",
    "        if primos(n):\n",
    "            print(n, end=\" \")\n",
    "        n += 1\n",
    "most_primos()"
   ]
  }
 ],
 "metadata": {
  "kernelspec": {
   "display_name": "Python 3",
   "language": "python",
   "name": "python3"
  },
  "language_info": {
   "codemirror_mode": {
    "name": "ipython",
    "version": 3
   },
   "file_extension": ".py",
   "mimetype": "text/x-python",
   "name": "python",
   "nbconvert_exporter": "python",
   "pygments_lexer": "ipython3",
   "version": "3.11.8"
  }
 },
 "nbformat": 4,
 "nbformat_minor": 2
}
